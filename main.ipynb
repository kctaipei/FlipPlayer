{
 "cells": [
  {
   "cell_type": "code",
   "execution_count": 1,
   "id": "b2aa40b5",
   "metadata": {},
   "outputs": [
    {
     "data": {
      "application/vnd.jupyter.widget-view+json": {
       "model_id": "446ad792a36549b9b650e6c6148167c1",
       "version_major": 2,
       "version_minor": 0
      },
      "text/plain": [
       "VBox(children=(Image(value=b'', format='jpg', layout=\"Layout(width='360px')\"), HBox(children=(Button(descripti…"
      ]
     },
     "metadata": {},
     "output_type": "display_data"
    },
    {
     "name": "stdout",
     "output_type": "stream",
     "text": [
      "output: data\\output.mp4\n"
     ]
    }
   ],
   "source": [
    "from src.player import Player\n",
    "from src.ui import UI\n",
    "\n",
    "video_path = 'data\\input.mp4'\n",
    "\n",
    "player = Player(video_path)\n",
    "\n",
    "UI(player).display()\n",
    "player.start()"
   ]
  }
 ],
 "metadata": {
  "kernelspec": {
   "display_name": "Python 3",
   "language": "python",
   "name": "python3"
  },
  "language_info": {
   "codemirror_mode": {
    "name": "ipython",
    "version": 3
   },
   "file_extension": ".py",
   "mimetype": "text/x-python",
   "name": "python",
   "nbconvert_exporter": "python",
   "pygments_lexer": "ipython3",
   "version": "3.8.3"
  }
 },
 "nbformat": 4,
 "nbformat_minor": 5
}
