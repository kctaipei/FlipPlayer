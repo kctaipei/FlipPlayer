{
 "cells": [
  {
   "cell_type": "code",
   "execution_count": 1,
   "id": "dfb2f2a3",
   "metadata": {},
   "outputs": [],
   "source": [
    "import subprocess\n",
    "import threading\n",
    "import time\n",
    "import cv2\n",
    "import ipywidgets as widgets\n",
    "from IPython.display import display\n",
    "\n",
    "PAUSE = 0\n",
    "PLAY_FORWARD = 1\n",
    "PLAY_BACKWARD = -1\n",
    "video_path = 'video.mp4'\n",
    "\n",
    "def get_i_frames():\n",
    "    cmd = ['ffprobe', '-select_streams', 'v', '-show_frames', '-show_entries',\\\n",
    "           'frame=pict_type', '-of', 'csv', video_path]\n",
    "    ret = subprocess.run(cmd, stdout = subprocess.PIPE, stderr = subprocess.PIPE, text = True)\n",
    "    lines = ret.stdout.splitlines()\n",
    "    i_frames = []\n",
    "    \n",
    "    for i, line in enumerate(lines):\n",
    "        if line.split(',')[1] == 'I':\n",
    "            i_frames.append(i)\n",
    "    return i_frames\n",
    "\n",
    "# ------------------------------\n",
    "# UI callbacks\n",
    "def set_progress(change):\n",
    "    global current_frame, ignore_slider_change\n",
    "    \n",
    "    if change['name'] == 'value':\n",
    "        if ignore_slider_change:\n",
    "            ignore_slider_change = False\n",
    "            return\n",
    "        current_frame = change['new']\n",
    "\n",
    "def set_pause(b):\n",
    "    global play_state\n",
    "    \n",
    "    play_state = PAUSE\n",
    "\n",
    "def set_forward(b):\n",
    "    global play_state\n",
    "    \n",
    "    play_state = PLAY_FORWARD\n",
    "\n",
    "def set_backward(b):\n",
    "    global play_state\n",
    "    \n",
    "    play_state = PLAY_BACKWARD\n",
    "# ------------------------------"
   ]
  },
  {
   "cell_type": "code",
   "execution_count": 2,
   "id": "c0c6e423",
   "metadata": {},
   "outputs": [],
   "source": [
    "cap = cv2.VideoCapture(video_path)\n",
    "total_frames = int(cap.get(cv2.CAP_PROP_FRAME_COUNT))\n",
    "frame_delay = 1 / cap.get(cv2.CAP_PROP_FPS)\n",
    "i_frames = get_i_frames()\n",
    "current_frame = 0\n",
    "play_state = PAUSE\n",
    "ignore_slider_change = False #slider is changed by user\n",
    "\n",
    "# ------------------------------\n",
    "# UIs\n",
    "video_widget = widgets.Image(format = 'jpeg')\n",
    "slider = widgets.IntSlider(value = 0, min = 0, max = total_frames - 1, description = 'Frame')\n",
    "btn_pause = widgets.Button(description = '⏸')\n",
    "btn_forward = widgets.Button(description = '▶')\n",
    "btn_backward = widgets.Button(description = '◀')\n",
    "\n",
    "slider.observe(set_progress)\n",
    "btn_pause.on_click(set_pause)\n",
    "btn_forward.on_click(set_forward)\n",
    "btn_backward.on_click(set_backward)\n",
    "# ------------------------------\n",
    "\n",
    "def display_frame(frame):\n",
    "    _, img = cv2.imencode('.jpg', frame)\n",
    "    \n",
    "    video_widget.value = img.tobytes()\n",
    "\n",
    "def find_previous_i_frame(index):\n",
    "    for i in reversed(i_frames):\n",
    "        if i <= index:\n",
    "            return i\n",
    "    return 0\n",
    "\n",
    "def play_video():\n",
    "    global current_frame, play_state, ignore_slider_change\n",
    "    \n",
    "    while True:\n",
    "        if play_state == PAUSE:\n",
    "            time.sleep(.1)\n",
    "        elif play_state == PLAY_FORWARD:\n",
    "            if current_frame >= total_frames - 1:\n",
    "                current_frame = total_frames - 1\n",
    "                play_state = PAUSE\n",
    "                continue\n",
    "            cap.set(cv2.CAP_PROP_POS_FRAMES, current_frame)\n",
    "            \n",
    "            ret, frame = cap.read()\n",
    "            \n",
    "            if not ret:\n",
    "                break\n",
    "            display_frame(frame)\n",
    "            slider.value = current_frame + 1\n",
    "        elif play_state == PLAY_BACKWARD:\n",
    "            if current_frame <= 0:\n",
    "                current_frame = 0\n",
    "                play_state = PAUSE\n",
    "                continue\n",
    "            \n",
    "            target = current_frame\n",
    "            start_frame = find_previous_i_frame(target - 1)\n",
    "            \n",
    "            cap.set(cv2.CAP_PROP_POS_FRAMES, start_frame)\n",
    "            \n",
    "            frames = []\n",
    "            for _ in range(current_frame - start_frame):\n",
    "                ret, frame = cap.read()\n",
    "                \n",
    "                if not ret:\n",
    "                    break\n",
    "                frames.append(frame)\n",
    "            for i in reversed(frames):\n",
    "                if play_state != PLAY_BACKWARD or target != current_frame:\n",
    "                    break\n",
    "                display_frame(i)\n",
    "                current_frame = target - 1\n",
    "                target = current_frame\n",
    "                ignore_slider_change = True\n",
    "                slider.value = current_frame\n",
    "                time.sleep(frame_delay)"
   ]
  },
  {
   "cell_type": "code",
   "execution_count": 3,
   "id": "26ac4989",
   "metadata": {},
   "outputs": [
    {
     "data": {
      "text/plain": [
       "[0, 91, 182, 273, 364, 455, 545, 636]"
      ]
     },
     "execution_count": 3,
     "metadata": {},
     "output_type": "execute_result"
    }
   ],
   "source": [
    "i_frames"
   ]
  },
  {
   "cell_type": "code",
   "execution_count": 4,
   "id": "8b1cd91f",
   "metadata": {},
   "outputs": [
    {
     "data": {
      "application/vnd.jupyter.widget-view+json": {
       "model_id": "80f9e6123b4f4857b19d206108fd3ce9",
       "version_major": 2,
       "version_minor": 0
      },
      "text/plain": [
       "VBox(children=(Image(value=b'', format='jpeg'), HBox(children=(Button(description='◀', style=ButtonStyle()), B…"
      ]
     },
     "metadata": {},
     "output_type": "display_data"
    }
   ],
   "source": [
    "thread = threading.Thread(target = play_video, daemon = True)\n",
    "\n",
    "display(widgets.VBox([video_widget, widgets.HBox([btn_backward, btn_pause, btn_forward]), slider]))\n",
    "thread.start()"
   ]
  }
 ],
 "metadata": {
  "kernelspec": {
   "display_name": "Python 3",
   "language": "python",
   "name": "python3"
  },
  "language_info": {
   "codemirror_mode": {
    "name": "ipython",
    "version": 3
   },
   "file_extension": ".py",
   "mimetype": "text/x-python",
   "name": "python",
   "nbconvert_exporter": "python",
   "pygments_lexer": "ipython3",
   "version": "3.8.3"
  }
 },
 "nbformat": 4,
 "nbformat_minor": 5
}
